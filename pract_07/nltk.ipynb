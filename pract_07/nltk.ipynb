{
 "cells": [
  {
   "cell_type": "code",
   "execution_count": 2,
   "id": "413ecfe7-8aeb-4373-984e-765521003058",
   "metadata": {},
   "outputs": [],
   "source": [
    "import nltk"
   ]
  },
  {
   "cell_type": "code",
   "execution_count": 4,
   "id": "3e9bac5d-7048-41e4-8f11-eef3da3b165d",
   "metadata": {},
   "outputs": [],
   "source": [
    "from nltk import word_tokenize, sent_tokenize"
   ]
  },
  {
   "cell_type": "code",
   "execution_count": 45,
   "id": "0c44ad1c-5a5d-4775-a28f-0a730677687e",
   "metadata": {},
   "outputs": [],
   "source": [
    "corpus = \"Sachin was the GOAT of the previous generation. Virat is the GOAT of this generation. Shubman will be the GOAT of the next generation\""
   ]
  },
  {
   "cell_type": "code",
   "execution_count": 47,
   "id": "3525e672-ef6f-49e7-8763-864bfd3373ca",
   "metadata": {},
   "outputs": [
    {
     "name": "stdout",
     "output_type": "stream",
     "text": [
      "['Sachin', 'was', 'the', 'GOAT', 'of', 'the', 'previous', 'generation', '.', 'Virat', 'is', 'the', 'GOAT', 'of', 'this', 'generation', '.', 'Shubman', 'will', 'be', 'the', 'GOAT', 'of', 'the', 'next', 'generation']\n",
      "['Sachin was the GOAT of the previous generation.', 'Virat is the GOAT of this generation.', 'Shubman will be the GOAT of the next generation']\n"
     ]
    }
   ],
   "source": [
    "print(word_tokenize(corpus))\n",
    "print(sent_tokenize(corpus))"
   ]
  },
  {
   "cell_type": "code",
   "execution_count": 49,
   "id": "20348a5c-6df8-459a-9876-24f85331afc8",
   "metadata": {},
   "outputs": [],
   "source": [
    "from nltk import pos_tag"
   ]
  },
  {
   "cell_type": "code",
   "execution_count": 51,
   "id": "46f416d6-a0c8-40f9-9029-2180d5b86368",
   "metadata": {},
   "outputs": [
    {
     "name": "stdout",
     "output_type": "stream",
     "text": [
      "[('Sachin', 'NNP'), ('was', 'VBD'), ('the', 'DT'), ('GOAT', 'NNP'), ('of', 'IN'), ('the', 'DT'), ('previous', 'JJ'), ('generation', 'NN'), ('.', '.'), ('Virat', 'NNP'), ('is', 'VBZ'), ('the', 'DT'), ('GOAT', 'NNP'), ('of', 'IN'), ('this', 'DT'), ('generation', 'NN'), ('.', '.'), ('Shubman', 'NNP'), ('will', 'MD'), ('be', 'VB'), ('the', 'DT'), ('GOAT', 'NNP'), ('of', 'IN'), ('the', 'DT'), ('next', 'JJ'), ('generation', 'NN')]\n"
     ]
    }
   ],
   "source": [
    "tokens = word_tokenize(corpus)\n",
    "print(pos_tag(tokens))"
   ]
  },
  {
   "cell_type": "code",
   "execution_count": 53,
   "id": "203f8923-3302-4aa1-9db6-ea83282a1588",
   "metadata": {},
   "outputs": [],
   "source": [
    "from nltk.corpus import stopwords\n",
    "stop_words = set(stopwords.words(\"english\"))"
   ]
  },
  {
   "cell_type": "code",
   "execution_count": 55,
   "id": "9bbeaeee-b7d0-4d44-b432-c0a7d6f4c092",
   "metadata": {},
   "outputs": [
    {
     "name": "stdout",
     "output_type": "stream",
     "text": [
      "['Sachin', 'GOAT', 'previous', 'generation', '.', 'Virat', 'GOAT', 'generation', '.', 'Shubman', 'GOAT', 'next', 'generation']\n"
     ]
    }
   ],
   "source": [
    "tokens = word_tokenize(corpus)\n",
    "cleaned_tokens = []\n",
    "for token in tokens:\n",
    "    if (token not in stop_words):\n",
    "        cleaned_tokens.append(token)\n",
    "print(cleaned_tokens)"
   ]
  },
  {
   "cell_type": "code",
   "execution_count": 57,
   "id": "805af66b-87c7-48c1-a4f2-a276eaa81f8b",
   "metadata": {},
   "outputs": [],
   "source": [
    "from nltk.stem import PorterStemmer"
   ]
  },
  {
   "cell_type": "code",
   "execution_count": 59,
   "id": "d4e3a87f-ee76-4826-a334-927e931f4621",
   "metadata": {},
   "outputs": [],
   "source": [
    "stemmer = PorterStemmer()"
   ]
  },
  {
   "cell_type": "code",
   "execution_count": 60,
   "id": "5e0e1ca0-48f9-46c3-985e-a1d316040022",
   "metadata": {},
   "outputs": [
    {
     "name": "stdout",
     "output_type": "stream",
     "text": [
      "['sachin', 'goat', 'previou', 'gener', '.', 'virat', 'goat', 'gener', '.', 'shubman', 'goat', 'next', 'gener']\n"
     ]
    }
   ],
   "source": [
    "stemmed_tokens = []\n",
    "for token in cleaned_tokens:\n",
    "    stemmed = stemmer.stem(token)\n",
    "    stemmed_tokens.append(stemmed)\n",
    "print(stemmed_tokens)"
   ]
  },
  {
   "cell_type": "code",
   "execution_count": 27,
   "id": "0afea05b-9429-480f-afde-d4d23e7b6e82",
   "metadata": {},
   "outputs": [],
   "source": [
    "from nltk.stem import WordNetLemmatizer"
   ]
  },
  {
   "cell_type": "code",
   "execution_count": 29,
   "id": "ee6a86cf-b3d8-46be-860b-ff9342828751",
   "metadata": {},
   "outputs": [],
   "source": [
    "lemmatizer = WordNetLemmatizer()"
   ]
  },
  {
   "cell_type": "code",
   "execution_count": 31,
   "id": "46ba5ee9-e5d0-4f1f-82f6-699d24c1db4c",
   "metadata": {},
   "outputs": [
    {
     "name": "stdout",
     "output_type": "stream",
     "text": [
      "['Sachin', 'GOAT', 'previous', 'generation', '.', 'Virat', 'GOAT', 'generation', '.', 'Shubham', 'GOAT', 'next', 'generation']\n"
     ]
    }
   ],
   "source": [
    "lemmatized_tokens = []\n",
    "for token in cleaned_tokens:\n",
    "    lemmatized = lemmatizer.lemmatize(token)\n",
    "    lemmatized_tokens.append(lemmatized)\n",
    "print(lemmatized_tokens)"
   ]
  },
  {
   "cell_type": "code",
   "execution_count": 33,
   "id": "dbcc8a1b-25c8-461c-8d67-107003d90bac",
   "metadata": {},
   "outputs": [],
   "source": [
    "from sklearn.feature_extraction.text import TfidfVectorizer"
   ]
  },
  {
   "cell_type": "code",
   "execution_count": 35,
   "id": "43c167cb-3045-483a-8c4e-9fd850902e6c",
   "metadata": {},
   "outputs": [],
   "source": [
    "corpus = [\n",
    "    \"Sachin was the GOAT of the previous generation\",\n",
    "    \"Virat is the GOAT of the this generation\",\n",
    "    \"Shubman will be the GOAT of the next generation\"\n",
    "]"
   ]
  },
  {
   "cell_type": "code",
   "execution_count": 37,
   "id": "e7c956e9-4892-4f5d-9dbd-3a0e70112c77",
   "metadata": {},
   "outputs": [],
   "source": [
    "vectorizer = TfidfVectorizer()"
   ]
  },
  {
   "cell_type": "code",
   "execution_count": 39,
   "id": "6026a1db-d3ff-4907-991c-36211cc9f02e",
   "metadata": {},
   "outputs": [
    {
     "data": {
      "text/plain": [
       "{'sachin': 7,\n",
       " 'was': 12,\n",
       " 'the': 9,\n",
       " 'goat': 2,\n",
       " 'of': 5,\n",
       " 'previous': 6,\n",
       " 'generation': 1,\n",
       " 'virat': 11,\n",
       " 'is': 3,\n",
       " 'this': 10,\n",
       " 'shubman': 8,\n",
       " 'will': 13,\n",
       " 'be': 0,\n",
       " 'next': 4}"
      ]
     },
     "execution_count": 39,
     "metadata": {},
     "output_type": "execute_result"
    }
   ],
   "source": [
    "matrix = vectorizer.fit(corpus)\n",
    "matrix.vocabulary_"
   ]
  },
  {
   "cell_type": "code",
   "execution_count": 41,
   "id": "af194033-e057-43b1-83bf-581b356ebd15",
   "metadata": {},
   "outputs": [
    {
     "name": "stdout",
     "output_type": "stream",
     "text": [
      "  (0, 12)\t0.4286758743128819\n",
      "  (0, 9)\t0.5063657539459899\n",
      "  (0, 7)\t0.4286758743128819\n",
      "  (0, 6)\t0.4286758743128819\n",
      "  (0, 5)\t0.25318287697299496\n",
      "  (0, 2)\t0.25318287697299496\n",
      "  (0, 1)\t0.25318287697299496\n",
      "  (1, 11)\t0.4286758743128819\n",
      "  (1, 10)\t0.4286758743128819\n",
      "  (1, 9)\t0.5063657539459899\n",
      "  (1, 5)\t0.25318287697299496\n",
      "  (1, 3)\t0.4286758743128819\n",
      "  (1, 2)\t0.25318287697299496\n",
      "  (1, 1)\t0.25318287697299496\n",
      "  (2, 13)\t0.39400039808922477\n",
      "  (2, 9)\t0.4654059642457353\n",
      "  (2, 8)\t0.39400039808922477\n",
      "  (2, 5)\t0.23270298212286766\n",
      "  (2, 4)\t0.39400039808922477\n",
      "  (2, 2)\t0.23270298212286766\n",
      "  (2, 1)\t0.23270298212286766\n",
      "  (2, 0)\t0.39400039808922477\n"
     ]
    }
   ],
   "source": [
    "tfidf_matrix = vectorizer.transform(corpus)\n",
    "print(tfidf_matrix)"
   ]
  },
  {
   "cell_type": "code",
   "execution_count": 43,
   "id": "8cee9f44-fc35-437d-91c7-37b73717ff74",
   "metadata": {},
   "outputs": [
    {
     "name": "stdout",
     "output_type": "stream",
     "text": [
      "['be' 'generation' 'goat' 'is' 'next' 'of' 'previous' 'sachin' 'shubman'\n",
      " 'the' 'this' 'virat' 'was' 'will']\n"
     ]
    }
   ],
   "source": [
    "print(vectorizer.get_feature_names_out())"
   ]
  },
  {
   "cell_type": "code",
   "execution_count": null,
   "id": "5091e0c7-79f6-418d-a701-88f559b732e8",
   "metadata": {},
   "outputs": [],
   "source": []
  }
 ],
 "metadata": {
  "kernelspec": {
   "display_name": "Python 3 (ipykernel)",
   "language": "python",
   "name": "python3"
  },
  "language_info": {
   "codemirror_mode": {
    "name": "ipython",
    "version": 3
   },
   "file_extension": ".py",
   "mimetype": "text/x-python",
   "name": "python",
   "nbconvert_exporter": "python",
   "pygments_lexer": "ipython3",
   "version": "3.12.0"
  }
 },
 "nbformat": 4,
 "nbformat_minor": 5
}
